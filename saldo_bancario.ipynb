{
 "cells": [
  {
   "cell_type": "code",
   "execution_count": null,
   "metadata": {},
   "outputs": [],
   "source": [
    "class ContaBancaria:\n",
    "    def __init__(self, titular, saldo=0):\n",
    "        self.titular = titular\n",
    "        self.saldo = saldo\n",
    "\n",
    "    def depositar(self, valor):\n",
    "        self.saldo += valor\n",
    "        print(f'Depósito de R${valor} realizado com sucesso. Novo saldo: R${self.saldo}')\n",
    "\n",
    "    def sacar(self, valor):\n",
    "        if valor <= self.saldo:\n",
    "            self.saldo -= valor\n",
    "            print(f'Saque de R${valor} realizado com sucesso. Novo saldo: R${self.saldo}')\n",
    "        else:\n",
    "            print('Saldo insuficiente.')\n",
    "\n",
    "    def verificar_saldo(self):\n",
    "        print(f'Saldo disponível: R${self.saldo}')\n",
    "\n",
    "# Função para interagir com o usuário\n",
    "def main():\n",
    "    nome = input('Digite o nome do titular da conta: ')\n",
    "    conta = ContaBancaria(nome)\n",
    "    while True:\n",
    "        print('\\nEscolha uma opção:')\n",
    "        print('1. Verificar saldo')\n",
    "        print('2. Depositar')\n",
    "        print('3. Sacar')\n",
    "        print('4. Sair')\n",
    "        opcao = input('Opção: ')\n",
    "\n",
    "        if opcao == '1':\n",
    "            conta.verificar_saldo()\n",
    "        elif opcao == '2':\n",
    "            valor = float(input('Digite o valor a ser depositado: '))\n",
    "            conta.depositar(valor)\n",
    "        elif opcao == '3':\n",
    "            valor = float(input('Digite o valor a ser sacado: '))\n",
    "            conta.sacar(valor)\n",
    "        elif opcao == '4':\n",
    "            print('Saindo...')\n",
    "            break\n",
    "        else:\n",
    "            print('Opção inválida. Por favor, escolha uma opção válida.')\n",
    "\n",
    "if __name__ == '__main__':\n",
    "    main()\n"
   ]
  }
 ],
 "metadata": {
  "kernelspec": {
   "display_name": "Python 3.9.10 ('.sykn-venv')",
   "language": "python",
   "name": "python3"
  },
  "language_info": {
   "codemirror_mode": {
    "name": "ipython",
    "version": 3
   },
   "file_extension": ".py",
   "mimetype": "text/x-python",
   "name": "python",
   "nbconvert_exporter": "python",
   "pygments_lexer": "ipython3",
   "version": "3.9.10"
  },
  "orig_nbformat": 4,
  "vscode": {
   "interpreter": {
    "hash": "fafdf55dfb5f57b5d5d63785901e83738eef47b3bfc49c9c5117ee925252c390"
   }
  }
 },
 "nbformat": 4,
 "nbformat_minor": 2
}
